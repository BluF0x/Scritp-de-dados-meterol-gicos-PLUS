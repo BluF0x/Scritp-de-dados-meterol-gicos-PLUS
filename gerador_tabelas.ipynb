{
 "cells": [
  {
   "cell_type": "markdown",
   "metadata": {},
   "source": [
    "# Script para organização de dados metereológicos\n",
    "\n",
    "> O código está no github: git@github.com:BluF0x/Scritp-de-dados-meterol-gicos-PLUS.git\n"
   ]
  },
  {
   "cell_type": "code",
   "execution_count": 15,
   "metadata": {},
   "outputs": [
    {
     "data": {
      "text/plain": [
       "'pt_BR.UTF-8'"
      ]
     },
     "execution_count": 15,
     "metadata": {},
     "output_type": "execute_result"
    }
   ],
   "source": [
    "# locale é colocado para português para as datas dos meses na planilha final ficarem em português\n",
    "import locale\n",
    "\n",
    "locale.setlocale(locale.LC_ALL, locale=\"pt_BR.UTF-8\")"
   ]
  },
  {
   "cell_type": "code",
   "execution_count": 37,
   "metadata": {},
   "outputs": [],
   "source": [
    "#Globais\n",
    "\n",
    "ANO = '2020'\n",
    "ARQUIVO = 'tabela_2020'\n",
    "LOCAL_TABELAS = './tabelas'"
   ]
  },
  {
   "cell_type": "code",
   "execution_count": 38,
   "metadata": {},
   "outputs": [],
   "source": [
    "import pandas as pd\n",
    "\n",
    "dados = pd.read_csv(f\"{LOCAL_TABELAS}/{ARQUIVO}.csv\", sep=';', decimal=',', parse_dates=[1], date_format='%d/%m/%Y') \n",
    "\n",
    "# Muda a coluna \"Data\" de string para datetime\n",
    "dados[\"Data\"] = pd.to_datetime(dados['Data'], format='%d/%m/%Y')"
   ]
  },
  {
   "cell_type": "code",
   "execution_count": 39,
   "metadata": {},
   "outputs": [],
   "source": [
    "# Colunas a serem excluidas da tabela \n",
    "filtro = [\"Pto Orvalho Ins. (C)\",\"Pto Orvalho Max. (C)\",\"Pto Orvalho Min. (C)\"]\n",
    "\n",
    "filtrado = dados.loc[:, ~dados.columns.isin(filtro)]"
   ]
  },
  {
   "cell_type": "code",
   "execution_count": null,
   "metadata": {},
   "outputs": [],
   "source": [
    "if \"Mês\" not in filtrado.columns:\n",
    "    filtrado['Mês'] =  filtrado[\"Data\"].dt.month\n",
    "\n",
    "buffer = filtrado.drop(\"Hora (UTC)\", axis=1)\n",
    "\n",
    "group = buffer.groupby(\"Mês\")\n",
    "\n",
    "medias_finais = group.mean()\n"
   ]
  },
  {
   "cell_type": "code",
   "execution_count": 41,
   "metadata": {},
   "outputs": [],
   "source": [
    "medias_finais[\"Data\"] =  medias_finais[\"Data\"].dt.strftime('%B')\n",
    "\n",
    "dados_finais = filtrado.copy()\n",
    "dados_finais[\"Data\"] = dados_finais[\"Data\"].dt.strftime(\"%d/%m/%Y\")"
   ]
  },
  {
   "cell_type": "code",
   "execution_count": 42,
   "metadata": {},
   "outputs": [],
   "source": [
    "# Exportação para .xlsx\n",
    "\n",
    "with pd.ExcelWriter(f\"./tabelas/prontas/{ANO}.xlsx\") as writer:\n",
    "    medias_finais.to_excel(writer, sheet_name=\"Médias\", float_format='%.3f', index=False)\n",
    "    dados_finais.to_excel(writer, sheet_name=\"Dados\", float_format='%.3f', index=False)"
   ]
  },
  {
   "cell_type": "code",
   "execution_count": null,
   "metadata": {},
   "outputs": [],
   "source": [
    "import matplotlib.pyplot as plt\n",
    "\n",
    "plt.figure(figsize=(14, 5))\n",
    "\n",
    "plt.title(\"Direção do vento conforme o ano de 2021\")\n",
    "\n",
    "# plt.plot( medias_finais[\"Data\"], medias_finais[\"Dir. Vento (m/s)\"], 'x-')\n",
    "\n",
    "plt.bar(medias_finais[\"Data\"], medias_finais[\"Dir. Vento (m/s)\"], width=0.5)\n",
    "\n",
    "plt.show()\n",
    "\n",
    "plt.figure(figsize=(14, 5))\n",
    "\n",
    "plt.title(\"Velocidade do vento conforme o ano de 2021\")\n",
    "\n",
    "plt.bar(medias_finais['Data'], medias_finais['Vel. Vento (m/s)'], width=0.5)\n",
    "\n",
    "plt.show()"
   ]
  }
 ],
 "metadata": {
  "kernelspec": {
   "display_name": "Python 3",
   "language": "python",
   "name": "python3"
  },
  "language_info": {
   "codemirror_mode": {
    "name": "ipython",
    "version": 3
   },
   "file_extension": ".py",
   "mimetype": "text/x-python",
   "name": "python",
   "nbconvert_exporter": "python",
   "pygments_lexer": "ipython3",
   "version": "3.12.3"
  }
 },
 "nbformat": 4,
 "nbformat_minor": 2
}
